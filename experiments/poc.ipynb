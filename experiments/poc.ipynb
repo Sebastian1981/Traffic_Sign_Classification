{
 "cells": [
  {
   "cell_type": "code",
   "execution_count": 1,
   "metadata": {},
   "outputs": [],
   "source": [
    "# Importing libraries\n",
    "import os\n",
    "import pandas as pd\n",
    "import numpy as np\n",
    "import matplotlib.pyplot as plt\n",
    "from matplotlib.image import imread\n",
    "import seaborn as sns\n",
    "import random\n",
    "from PIL import Image\n",
    "from sklearn.model_selection import  train_test_split\n",
    "from tensorflow.keras.utils import to_categorical\n",
    "import tensorflow as tf\n",
    "from tensorflow.keras.models import Sequential\n",
    "from tensorflow.keras.layers import Dense, Flatten, Dropout, Conv2D, MaxPool2D"
   ]
  },
  {
   "cell_type": "code",
   "execution_count": null,
   "metadata": {},
   "outputs": [],
   "source": [
    "# Plotting 12 images to check dataset\n",
    "plt.figure(figsize=(12,12))\n",
    "path = \"traffic_sign_dataset/Test\"\n",
    "for i in range(1,17):\n",
    "    plt.subplot(4,4,i)\n",
    "    plt.tight_layout()\n",
    "    rand_img = imread(path +'/'+ random.choice(sorted(os.listdir(path))))\n",
    "    plt.imshow(rand_img)\n",
    "    plt.xlabel(rand_img.shape[1], fontsize = 10)#width of image\n",
    "    plt.ylabel(rand_img.shape[0], fontsize = 10)#height of image"
   ]
  }
 ],
 "metadata": {
  "kernelspec": {
   "display_name": "Python 3.8.13 ('opencv_env')",
   "language": "python",
   "name": "python3"
  },
  "language_info": {
   "codemirror_mode": {
    "name": "ipython",
    "version": 3
   },
   "file_extension": ".py",
   "mimetype": "text/x-python",
   "name": "python",
   "nbconvert_exporter": "python",
   "pygments_lexer": "ipython3",
   "version": "3.8.13"
  },
  "orig_nbformat": 4,
  "vscode": {
   "interpreter": {
    "hash": "ac72f89b7a26e36b8b8e44a185dbf678bb9f8d0642f78132d26ba196384da340"
   }
  }
 },
 "nbformat": 4,
 "nbformat_minor": 2
}
